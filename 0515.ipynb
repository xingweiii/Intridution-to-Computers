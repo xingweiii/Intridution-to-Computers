{
  "nbformat": 4,
  "nbformat_minor": 0,
  "metadata": {
    "colab": {
      "provenance": [],
      "authorship_tag": "ABX9TyOYEjHpRT9tJ5ikdQl5SeeH",
      "include_colab_link": true
    },
    "kernelspec": {
      "name": "python3",
      "display_name": "Python 3"
    },
    "language_info": {
      "name": "python"
    }
  },
  "cells": [
    {
      "cell_type": "markdown",
      "metadata": {
        "id": "view-in-github",
        "colab_type": "text"
      },
      "source": [
        "<a href=\"https://colab.research.google.com/github/xingweiii/Intridution-to-Computers/blob/main/0515.ipynb\" target=\"_parent\"><img src=\"https://colab.research.google.com/assets/colab-badge.svg\" alt=\"Open In Colab\"/></a>"
      ]
    },
    {
      "cell_type": "code",
      "execution_count": null,
      "metadata": {
        "colab": {
          "base_uri": "https://localhost:8080/"
        },
        "id": "scsg5DXyQ4I5",
        "outputId": "72928ffc-6672-44d6-9ee8-4aaa7b008cf0"
      },
      "outputs": [
        {
          "output_type": "stream",
          "name": "stdout",
          "text": [
            "0515\n"
          ]
        }
      ],
      "source": [
        "print(\"0515\")"
      ]
    },
    {
      "cell_type": "code",
      "source": [
        "while True:\n",
        "    rain = input(\"請輸入 Y 或 N：\")\n",
        "    if rain.lower() == \"y\" or rain.lower() == \"n\":\n",
        "        print(\"出門記得帶傘\")\n",
        "        break\n",
        "    else:\n",
        "        print(\"請輸入有效的選項（Y 或 N）\")\n"
      ],
      "metadata": {
        "id": "OLFrYV2vxJJ0",
        "outputId": "4ae54717-c3b3-433b-fbc4-8d42f75a86eb",
        "colab": {
          "base_uri": "https://localhost:8080/"
        }
      },
      "execution_count": null,
      "outputs": [
        {
          "output_type": "stream",
          "name": "stdout",
          "text": [
            "請輸入 Y 或 N：n\n",
            "出門記得帶傘\n"
          ]
        }
      ]
    },
    {
      "cell_type": "code",
      "source": [
        "temperature = float(input(\"請輸入體溫：\"))\n",
        "if temperature >= 37.5:\n",
        "    print(\"體溫過高！\")\n",
        "elif temperature >= 37 and temperature < 37.5:\n",
        "    print(\"體溫略高！\")\n",
        "elif temperature >= 34 and temperature < 37:\n",
        "    print(\"體溫正常！\")\n",
        "else:\n",
        "    print(\"體溫異常，請重新量測！\")\n"
      ],
      "metadata": {
        "id": "scU98470qWeV"
      },
      "execution_count": null,
      "outputs": []
    },
    {
      "cell_type": "code",
      "source": [
        "score = int(input(\"score: \"))\n",
        "if score >= 90:\n",
        "  print('Grade is: A')\n",
        "elif score >= 80:\n",
        "  print('Grade is: B') \n",
        "elif score >= 70:\n",
        "  print('Grade is: C')\n",
        "elif score >= 60:\n",
        "  print('Grade is: D')\n",
        "else:\n",
        "  print('Grade is: E')"
      ],
      "metadata": {
        "id": "xY57xg4vwgDW",
        "colab": {
          "base_uri": "https://localhost:8080/"
        },
        "outputId": "9a54f7f8-91f0-4c7e-f7da-cd62075e9564"
      },
      "execution_count": 16,
      "outputs": [
        {
          "output_type": "stream",
          "name": "stdout",
          "text": [
            "score: 100\n",
            "Grade is: A\n"
          ]
        }
      ]
    },
    {
      "cell_type": "code",
      "source": [
        "month = int(input(\"請輸入月份：\"))\n",
        "\n",
        "if month == 3 or month == 4 or month == 5:\n",
        "    print(str(month) + \"月是春天\")\n",
        "elif month == 6 or month == 7 or month == 8:\n",
        "    print(str(month) + \"月是夏天\")\n",
        "elif month == 9 or month == 10 or month == 11:\n",
        "    print(str(month) + \"月是秋天\")\n",
        "elif month == 12 or month == 1 or month == 2:\n",
        "    print(str(month) + \"月是冬天\")\n",
        "else:\n",
        "    print(\"月份不在範圍內\")\n"
      ],
      "metadata": {
        "colab": {
          "base_uri": "https://localhost:8080/"
        },
        "id": "9PC0Pw931bvr",
        "outputId": "8ff2a833-660c-43cb-c2b4-44b804d03ea6"
      },
      "execution_count": 18,
      "outputs": [
        {
          "output_type": "stream",
          "name": "stdout",
          "text": [
            "請輸入月份：3\n",
            "3月是春天\n"
          ]
        }
      ]
    },
    {
      "cell_type": "code",
      "source": [
        "income = float(input(\"請輸入今年收入淨額：\"))\n",
        "\n",
        "if income >= 2000000:\n",
        "    tax_rate = 0.3\n",
        "elif income >= 1000000:\n",
        "    tax_rate = 0.21\n",
        "elif income >= 600000:\n",
        "    tax_rate = 0.13\n",
        "elif income >= 300000:\n",
        "    tax_rate = 0.06\n",
        "else:\n",
        "    tax_rate = 0\n",
        "\n",
        "tax_amount = income * tax_rate\n",
        "print(\"付稅金額為：\" + str(tax_amount))\n"
      ],
      "metadata": {
        "colab": {
          "base_uri": "https://localhost:8080/"
        },
        "id": "egtiVciP3URH",
        "outputId": "631e64f1-f628-409a-dcc5-eec2554cdca3"
      },
      "execution_count": 19,
      "outputs": [
        {
          "output_type": "stream",
          "name": "stdout",
          "text": [
            "請輸入今年收入淨額：2000000\n",
            "付稅金額為：600000.0\n"
          ]
        }
      ]
    }
  ]
}